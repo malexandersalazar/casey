{
 "cells": [
  {
   "cell_type": "code",
   "execution_count": 77,
   "metadata": {},
   "outputs": [],
   "source": [
    "import os\n",
    "import json\n",
    "from pydantic import BaseModel\n",
    "\n",
    "from dotenv import load_dotenv\n",
    "from langchain_groq import ChatGroq\n",
    "from langchain_core.prompts import ChatPromptTemplate\n",
    "from langchain_core.output_parsers import PydanticOutputParser\n",
    "\n",
    "_ = load_dotenv(override=True)"
   ]
  },
  {
   "cell_type": "code",
   "execution_count": 78,
   "metadata": {},
   "outputs": [],
   "source": [
    "from typing import Type, Any, get_origin, get_args\n",
    "from pydantic import Field, BaseModel\n",
    "from typing import List, Dict\n",
    "import re\n",
    "\n",
    "class ProductModel(BaseModel):\n",
    "    \"\"\"\n",
    "    Product data model representing a product with its basic attributes.\n",
    "    Attributes:\n",
    "        name: The name of the product\n",
    "        price: The price of the product without currency symbol\n",
    "        features: A text list of product features or characteristics\n",
    "    \"\"\"\n",
    "    name: str\n",
    "    price: float\n",
    "    features: List[str]"
   ]
  },
  {
   "cell_type": "code",
   "execution_count": 79,
   "metadata": {},
   "outputs": [],
   "source": [
    "class CasualChatResponse(BaseModel):\n",
    "    content: str = Field(description=\"The assistant text response\")\n",
    "    emotion: str = Field(\n",
    "        description='The assistant emotion that should match the content of the response; must be one of [\"neutral\", \"happy\", \"sad\", \"angry\", \"surprised\", \"fearful\", \"disgusted\"]'\n",
    "    )"
   ]
  },
  {
   "cell_type": "code",
   "execution_count": 80,
   "metadata": {},
   "outputs": [
    {
     "data": {
      "text/plain": [
       "{'properties': {'content': {'description': 'The assistant text response',\n",
       "   'title': 'Content',\n",
       "   'type': 'string'},\n",
       "  'emotion': {'description': 'The assistant emotion that should match the content of the response; must be one of [\"neutral\", \"happy\", \"sad\", \"angry\", \"surprised\", \"fearful\", \"disgusted\"]',\n",
       "   'title': 'Emotion',\n",
       "   'type': 'string'}},\n",
       " 'required': ['content', 'emotion'],\n",
       " 'title': 'CasualChatResponse',\n",
       " 'type': 'object'}"
      ]
     },
     "execution_count": 80,
     "metadata": {},
     "output_type": "execute_result"
    }
   ],
   "source": [
    "CasualChatResponse.model_json_schema()"
   ]
  },
  {
   "cell_type": "code",
   "execution_count": 83,
   "metadata": {},
   "outputs": [
    {
     "name": "stdout",
     "output_type": "stream",
     "text": [
      "{\n",
      "    \"content\": \"The assistant text response\",\n",
      "    \"emotion\": \"The assistant emotion that should match the content of the response; must be one of [\\\"neutral\\\", \\\"happy\\\", \\\"sad\\\", \\\"angry\\\", \\\"surprised\\\", \\\"fearful\\\", \\\"disgusted\\\"]\"\n",
      "}\n"
     ]
    }
   ],
   "source": [
    "schema = CasualChatResponse.model_json_schema()\n",
    "template = {}\n",
    "\n",
    "for field_name, field_schema in schema.get(\"properties\", {}).items():\n",
    "    description = field_schema.get(\"description\", f\"{field_name} value\")\n",
    "    if field_schema.get(\"type\") == \"array\":\n",
    "        template[field_name] = [description]\n",
    "    else:\n",
    "        template[field_name] = description\n",
    "        \n",
    "\n",
    "print(json.dumps(template, indent=4))"
   ]
  },
  {
   "cell_type": "code",
   "execution_count": 74,
   "metadata": {},
   "outputs": [],
   "source": [
    "def parse_docstring_attributes(docstring: str) -> Dict[str, str]:\n",
    "    \"\"\"\n",
    "    Parse a docstring to extract attribute descriptions.\n",
    "    \n",
    "    Args:\n",
    "        docstring: The class docstring\n",
    "        \n",
    "    Returns:\n",
    "        Dictionary mapping field names to their descriptions\n",
    "    \"\"\"\n",
    "    if not docstring:\n",
    "        return {}\n",
    "    \n",
    "    # Find the Attributes section\n",
    "    match = re.search(r'Attributes:(.*?)(?:\\n\\n|$)', docstring, re.DOTALL)\n",
    "    if not match:\n",
    "        return {}\n",
    "    \n",
    "    attributes_section = match.group(1)\n",
    "    \n",
    "    # Extract field descriptions using regex\n",
    "    field_pattern = re.compile(r'\\s*(\\w+):\\s*(.+?)(?=\\n\\s*\\w+:|$)', re.DOTALL)\n",
    "    fields = {}\n",
    "    \n",
    "    for match in field_pattern.finditer(attributes_section):\n",
    "        field_name = match.group(1)\n",
    "        description = match.group(2).strip()\n",
    "        fields[field_name] = description\n",
    "        \n",
    "    return fields\n",
    "\n",
    "\n",
    "def generate_model_template(model: Type[BaseModel]) -> str:\n",
    "    \"\"\"\n",
    "    Generate a template string using the model's docstring descriptions.\n",
    "    \n",
    "    Args:\n",
    "        model: A Pydantic model class with documented attributes\n",
    "        \n",
    "    Returns:\n",
    "        A formatted string template with descriptions as placeholders\n",
    "    \"\"\"\n",
    "    # Parse the docstring\n",
    "    field_descriptions = parse_docstring_attributes(model.__doc__)\n",
    "    \n",
    "    # Create template dictionary\n",
    "    template = {}\n",
    "    \n",
    "    for field_name, field_info in model.model_fields.items():\n",
    "        if field_name in field_descriptions:\n",
    "            # For list types, wrap description in a list\n",
    "            if get_origin(field_info.annotation) is list:\n",
    "                template[field_name] = [field_descriptions[field_name]]\n",
    "            else:\n",
    "                template[field_name] = field_descriptions[field_name]\n",
    "        else:\n",
    "            # Fallback if no description is found\n",
    "            template[field_name] = f\"{field_name} value here\"\n",
    "    \n",
    "    # Convert to formatted string with double braces\n",
    "    import json\n",
    "    return json.dumps(template, indent=4).replace('{', '{{').replace('}', '}}')"
   ]
  },
  {
   "cell_type": "code",
   "execution_count": 75,
   "metadata": {},
   "outputs": [
    {
     "name": "stdout",
     "output_type": "stream",
     "text": [
      "{{\n",
      "    \"content\": \"The assistant text response\",\n",
      "    \"emotion\": \"The assistant emotion that should match the content of the response; must be one of [\\\"neutral\\\", \\\"happy\\\", \\\"sad\\\", \\\"angry\\\", \\\"surprised\\\", \\\"fearful\\\", \\\"disgusted\\\"]\"\n",
      "}}\n"
     ]
    }
   ],
   "source": [
    "model_template = generate_model_template(CasualChatResponse)\n",
    "print(model_template)"
   ]
  },
  {
   "cell_type": "code",
   "execution_count": 76,
   "metadata": {},
   "outputs": [
    {
     "name": "stdout",
     "output_type": "stream",
     "text": [
      "<class '__main__.CasualChatResponse'>\n"
     ]
    },
    {
     "data": {
      "text/plain": [
       "CasualChatResponse(content='No te preocupes, estoy aquí para ayudarte. Como soy una inteligencia artificial, no tengo la capacidad de sentir emociones como el miedo. ¿Quieres que hablemos sobre lo que podrías hacer para sentirte más seguro en tu casa?', emotion='neutral')"
      ]
     },
     "execution_count": 76,
     "metadata": {},
     "output_type": "execute_result"
    }
   ],
   "source": [
    "# Initialize Groq LLM\n",
    "llm = ChatGroq(\n",
    "    api_key=os.environ.get('GROQ_API_KEY'),\n",
    "    model_name=\"llama-3.3-70b-versatile\",\n",
    "    temperature=0.7\n",
    ")\n",
    "\n",
    "# Define the expected JSON structure\n",
    "parser = PydanticOutputParser(pydantic_object=CasualChatResponse)\n",
    "\n",
    "# Create a simple prompt\n",
    "prompt = ChatPromptTemplate.from_messages([\n",
    "    (\"user\", \"{input}\"),\n",
    "    (\"user\", f\"\"\"Answer the previous message in JSON with this structure:\n",
    "        {model_template}\"\"\"),\n",
    "])\n",
    "\n",
    "# Create the chain that guarantees JSON output\n",
    "chain = prompt | llm | parser\n",
    "       \n",
    "# Example usage\n",
    "user_input = \"\"\"Oye, acabo de escuchar un ruido raro y estoy solo en la casa, tengo miedo. ¿Tu no tienes miedo?\"\"\"\n",
    "\n",
    "result = chain.invoke({\"input\": user_input})\n",
    "result"
   ]
  },
  {
   "cell_type": "code",
   "execution_count": null,
   "metadata": {},
   "outputs": [],
   "source": []
  }
 ],
 "metadata": {
  "kernelspec": {
   "display_name": ".venv",
   "language": "python",
   "name": "python3"
  },
  "language_info": {
   "codemirror_mode": {
    "name": "ipython",
    "version": 3
   },
   "file_extension": ".py",
   "mimetype": "text/x-python",
   "name": "python",
   "nbconvert_exporter": "python",
   "pygments_lexer": "ipython3",
   "version": "3.10.14"
  }
 },
 "nbformat": 4,
 "nbformat_minor": 2
}
