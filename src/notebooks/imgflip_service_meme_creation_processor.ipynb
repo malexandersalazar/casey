{
 "cells": [
  {
   "cell_type": "code",
   "execution_count": 2,
   "metadata": {},
   "outputs": [
    {
     "data": {
      "text/plain": [
       "True"
      ]
     },
     "execution_count": 2,
     "metadata": {},
     "output_type": "execute_result"
    }
   ],
   "source": [
    "import os\n",
    "from dotenv import load_dotenv\n",
    "load_dotenv(override=True)"
   ]
  },
  {
   "cell_type": "markdown",
   "metadata": {},
   "source": [
    "## imgflip_service.py"
   ]
  },
  {
   "cell_type": "code",
   "execution_count": 3,
   "metadata": {},
   "outputs": [],
   "source": [
    "import json\n",
    "import requests\n",
    "from typing import Optional, Dict, List\n",
    "\n",
    "class ImgflipService:\n",
    "    \"\"\"\n",
    "    A service class for generating memes using the Imgflip API.\n",
    "    Documentation: https://api.imgflip.com/\n",
    "    \"\"\"\n",
    "    \n",
    "    def __init__(self, username: str, password: str):\n",
    "        \"\"\"\n",
    "        Initialize the meme generator service.\n",
    "        \n",
    "        Args:\n",
    "            username: Imgflip username\n",
    "            password: Imgflip password\n",
    "        \"\"\"\n",
    "        self.base_url = \"https://api.imgflip.com\"\n",
    "        self.username = username\n",
    "        self.password = password\n",
    "\n",
    "    def get_popular_memes(self, box_count: Optional[int] = None) -> List[Dict]:\n",
    "        \"\"\"\n",
    "        Get a list of popular meme templates from Imgflip.\n",
    "        \n",
    "        Args:\n",
    "            box_count: Optional filter for number of text boxes\n",
    "            \n",
    "        Returns:\n",
    "            List of dictionaries containing meme template information\n",
    "        \"\"\"\n",
    "        try:\n",
    "            response = requests.get(f\"{self.base_url}/get_memes\")\n",
    "            response.raise_for_status()\n",
    "            \n",
    "            data = response.json()\n",
    "            if data[\"success\"]:\n",
    "                memes = data[\"data\"][\"memes\"]\n",
    "                if box_count is not None:\n",
    "                    memes = [meme for meme in memes if meme[\"box_count\"] == box_count]\n",
    "                return memes\n",
    "            else:\n",
    "                raise Exception(f\"Failed to get memes: {data['error_message']}\")\n",
    "                \n",
    "        except requests.RequestException as e:\n",
    "            raise Exception(f\"API request failed: {str(e)}\")\n",
    "\n",
    "    def get_two_box_memes(self) -> List[Dict]:\n",
    "        \"\"\"\n",
    "        Get a list of meme templates that have exactly two text boxes.\n",
    "        \n",
    "        Returns:\n",
    "            List of dictionaries containing meme template information\n",
    "        \"\"\"\n",
    "        return self.get_popular_memes(box_count=2)\n",
    "\n",
    "    def create_meme(\n",
    "        self,\n",
    "        template_id: str,\n",
    "        top_text: str,\n",
    "        bottom_text: str,\n",
    "        max_font_size: Optional[int] = None\n",
    "    ) -> Dict:\n",
    "        \"\"\"\n",
    "        Generate a meme using the specified template and two text boxes.\n",
    "        \n",
    "        Args:\n",
    "            template_id: The ID of the meme template to use\n",
    "            top_text: Text for the top box\n",
    "            bottom_text: Text for the bottom box\n",
    "            max_font_size: Optional maximum font size for the text\n",
    "            \n",
    "        Returns:\n",
    "            Dictionary containing the URL of the generated meme\n",
    "        \"\"\"\n",
    "        # Prepare the request payload\n",
    "        payload = {\n",
    "            \"template_id\": template_id,\n",
    "            \"username\": self.username,\n",
    "            \"password\": self.password,\n",
    "            \"boxes[0][text]\": top_text,\n",
    "            \"boxes[1][text]\": bottom_text\n",
    "        }\n",
    "        \n",
    "        if max_font_size:\n",
    "            payload[\"max_font_size\"] = max_font_size\n",
    "\n",
    "        try:\n",
    "            response = requests.post(f\"{self.base_url}/caption_image\", data=payload)\n",
    "            response.raise_for_status()\n",
    "            \n",
    "            data = response.json()\n",
    "            if data[\"success\"]:\n",
    "                return {\n",
    "                    \"url\": data[\"data\"][\"url\"],\n",
    "                    \"page_url\": data[\"data\"][\"page_url\"]\n",
    "                }\n",
    "            else:\n",
    "                raise Exception(f\"Failed to generate meme: {data['error_message']}\")\n",
    "                \n",
    "        except requests.RequestException as e:\n",
    "            raise Exception(f\"API request failed: {str(e)}\")\n",
    "\n",
    "    def find_template_by_name(self, name: str, two_boxes_only: bool = False) -> Optional[Dict]:\n",
    "        \"\"\"\n",
    "        Find a meme template by name (case-insensitive partial match).\n",
    "        \n",
    "        Args:\n",
    "            name: Name of the meme template to find\n",
    "            two_boxes_only: If True, only return templates with exactly two text boxes\n",
    "            \n",
    "        Returns:\n",
    "            Dictionary containing template information or None if not found\n",
    "        \"\"\"\n",
    "        templates = self.get_two_box_memes() if two_boxes_only else self.get_popular_memes()\n",
    "        name = name.lower()\n",
    "        \n",
    "        for template in templates:\n",
    "            if name in template[\"name\"].lower():\n",
    "                return template\n",
    "                \n",
    "        return None\n",
    "\n",
    "    def list_two_box_meme_names(self) -> List[str]:\n",
    "        \"\"\"\n",
    "        Get a list of names of all available two-box meme templates.\n",
    "        \n",
    "        Returns:\n",
    "            List of meme template names\n",
    "        \"\"\"\n",
    "        templates = self.get_two_box_memes()\n",
    "        return [template[\"name\"] for template in templates]"
   ]
  },
  {
   "cell_type": "markdown",
   "metadata": {},
   "source": [
    "## meme_creation_processor.py"
   ]
  },
  {
   "cell_type": "code",
   "execution_count": 7,
   "metadata": {},
   "outputs": [],
   "source": [
    "from groq import Groq"
   ]
  },
  {
   "cell_type": "code",
   "execution_count": 8,
   "metadata": {},
   "outputs": [],
   "source": [
    "imgflip_service = ImgflipService(os.environ.get('IMGFLIP_USERNAME'), os.environ.get('IMGFLIP_PASSWORD'))\n",
    "client = Groq(api_key=os.environ.get(\"GROQ_API_KEY\"))"
   ]
  },
  {
   "cell_type": "markdown",
   "metadata": {},
   "source": [
    "### detect_meme_parameters func"
   ]
  },
  {
   "cell_type": "code",
   "execution_count": null,
   "metadata": {},
   "outputs": [
    {
     "name": "stdout",
     "output_type": "stream",
     "text": [
      "{'meme_name': 'Drake Hotline Bling', 'top_text': 'AI Chatbots with text inputs', 'bottom_text': 'Voice Commanded AI Agents'}\n"
     ]
    }
   ],
   "source": [
    "user_message = 'I want you to create a meme, something like drake dislike, uhmm... \"AI Chatbots with text inputs\" and on the bottom side \"Voice Commanded AI Agents\"'\n",
    "available_memes = imgflip_service.list_two_box_meme_names()\n",
    "        \n",
    "prompt = f\"\"\"You are a helpful assistant that extracts meme creation parameters from user messages.\n",
    "Available meme templates are: {', '.join(available_memes)}\n",
    "\n",
    "Your task is to:\n",
    "1. Identify which meme template the user wants to use\n",
    "2. Extract the text they want for the top and bottom of the meme\n",
    "3. Return the information in a JSON format\n",
    "\n",
    "Rules:\n",
    "- If the user doesn't specify a meme template but their message implies a common meme format, suggest an appropriate template\n",
    "- If you can't confidently match to a template, return null for meme_name\n",
    "- The text should maintain the user's intent but can be adjusted to fit meme format\n",
    "- If you can't determine top or bottom text, return null for those fields\n",
    "\n",
    "Return format:\n",
    "{{\n",
    "    \"meme_name\": string or null,\n",
    "    \"top_text\": string or null,\n",
    "    \"bottom_text\": string or null\n",
    "}}\n",
    "\n",
    "Extract meme parameters from this message: {user_message}\n",
    "\"\"\"\n",
    "\n",
    "response = client.chat.completions.create(\n",
    "        messages=[{\"role\": \"user\", \"content\": prompt}],\n",
    "        model=os.environ.get(\"GROQ_MODEL_ID\"),\n",
    "        max_tokens=300,\n",
    "        temperature=0,\n",
    "        frequency_penalty=1.1,\n",
    "        stream=False,\n",
    "        response_format={\"type\": \"json_object\"}\n",
    "        )\n",
    "\n",
    "result = response.choices[0].message.content\n",
    "parsed_result = json.loads(result)\n",
    "print(parsed_result)"
   ]
  },
  {
   "cell_type": "markdown",
   "metadata": {},
   "source": [
    "### __generate_processing_message func"
   ]
  },
  {
   "cell_type": "code",
   "execution_count": null,
   "metadata": {},
   "outputs": [
    {
     "name": "stdout",
     "output_type": "stream",
     "text": [
      "\n",
      "\n",
      "prompt\n",
      "Generate an engaging and concise response about meme being created and will be sended to the user's Telegram.\n",
      "\n",
      "**Mention general thoughts about the meme details and please focus solely on the following specific details provided for the meme generation:**:\n",
      "Meme name: Drake Hotline Bling\n",
      "Top Text: AI Chatbots with text inputs\n",
      "Bottom Text: Voice Commanded AI Agents\n",
      "Last user message: '''I want you to create a meme, something like drake dislike, uhmm... \"AI Chatbots with text inputs\" and on the bottom side \"Voice Commanded AI Agents\"'''\n",
      "\n",
      "**The response should:**\n",
      "1. Acknowledge the meme creation request\n",
      "2. Explain and argument why your thoughts about that meme\n",
      "3. Mention that they'll receive a notification when it's ready\n",
      "4. Be enthusiastic and engaging\n",
      "\n",
      "\n",
      "\n",
      "processing message\n",
      "I've got it. Your \"Drake Hotline Bling\" meme is in the works. I love the idea of using this iconic meme to poke fun at the evolution of AI interactions. The contrast between \"AI Chatbots with text inputs\" and \"Voice Commanded AI Agents\" is genius - it highlights the shift from typing out our queries to simply speaking to our devices. It's a clever commentary on how far we've come in terms of AI technology. I think this meme is going to be a hit. I'll send it your way on Telegram as soon as it's ready - keep an eye out for the notification!\n"
     ]
    }
   ],
   "source": [
    "# \"\"\"Generate an engaging response about content being processed\"\"\"\n",
    "prompt = f\"\"\"Generate an engaging and concise response about meme being created and will be sended to the user's Telegram.\n",
    "\n",
    "**Mention general right to the point thoughts about the meme details and please focus solely on the following specific details provided for the meme generation:**:\n",
    "Meme name: {parsed_result['meme_name']}\n",
    "Top Text: {parsed_result['top_text']}\n",
    "Bottom Text: {parsed_result['bottom_text']}\n",
    "Last user message: '''{user_message}'''\n",
    "\n",
    "**The response should:**\n",
    "1. Acknowledge the meme creation request\n",
    "2. Shortly explain your thoughts about that meme\n",
    "3. Mention that they'll receive a notification when it's ready\n",
    "\"\"\"\n",
    "\n",
    "print('\\n\\nprompt')\n",
    "print(prompt)\n",
    "\n",
    "response = client.chat.completions.create(\n",
    "        messages=[{\"role\": \"user\", \"content\": prompt}],\n",
    "        model=os.environ.get(\"GROQ_MODEL_ID\"),\n",
    "        max_tokens=192,\n",
    "        temperature=0.08,\n",
    "        frequency_penalty=1.1,\n",
    "        stream=False)\n",
    "\n",
    "response_text =response.choices[0].message.content\n",
    "print('\\n\\nprocessing message')\n",
    "print(response_text)"
   ]
  },
  {
   "cell_type": "code",
   "execution_count": 16,
   "metadata": {},
   "outputs": [
    {
     "data": {
      "text/plain": [
       "{'id': '181913649',\n",
       " 'name': 'Drake Hotline Bling',\n",
       " 'url': 'https://i.imgflip.com/30b1gx.jpg',\n",
       " 'width': 1200,\n",
       " 'height': 1200,\n",
       " 'box_count': 2,\n",
       " 'captions': 1348750}"
      ]
     },
     "execution_count": 16,
     "metadata": {},
     "output_type": "execute_result"
    }
   ],
   "source": [
    "template = imgflip_service.find_template_by_name(parsed_result['meme_name'])\n",
    "template"
   ]
  },
  {
   "cell_type": "code",
   "execution_count": 18,
   "metadata": {},
   "outputs": [
    {
     "data": {
      "text/plain": [
       "{'url': 'https://i.imgflip.com/9d2ic5.jpg',\n",
       " 'page_url': 'https://imgflip.com/i/9d2ic5'}"
      ]
     },
     "execution_count": 18,
     "metadata": {},
     "output_type": "execute_result"
    }
   ],
   "source": [
    "imgflip_service.create_meme(template['id'], parsed_result['top_text'], parsed_result['bottom_text'])"
   ]
  },
  {
   "cell_type": "code",
   "execution_count": null,
   "metadata": {},
   "outputs": [],
   "source": []
  }
 ],
 "metadata": {
  "kernelspec": {
   "display_name": ".venv",
   "language": "python",
   "name": "python3"
  },
  "language_info": {
   "codemirror_mode": {
    "name": "ipython",
    "version": 3
   },
   "file_extension": ".py",
   "mimetype": "text/x-python",
   "name": "python",
   "nbconvert_exporter": "python",
   "pygments_lexer": "ipython3",
   "version": "3.10.14"
  }
 },
 "nbformat": 4,
 "nbformat_minor": 2
}
