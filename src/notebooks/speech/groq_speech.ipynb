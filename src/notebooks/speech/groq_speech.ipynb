{
 "cells": [
  {
   "cell_type": "code",
   "execution_count": 1,
   "metadata": {},
   "outputs": [],
   "source": [
    "import os"
   ]
  },
  {
   "cell_type": "code",
   "execution_count": null,
   "metadata": {},
   "outputs": [],
   "source": [
    "# import pyaudio\n",
    "# def list_microphones():\n",
    "#     p = pyaudio.PyAudio()\n",
    "#     infos = []\n",
    "#     for i in range(p.get_device_count()):\n",
    "#         device_info = p.get_device_info_by_index(i)\n",
    "#         if device_info['maxInputChannels'] > 0:  # if it's an input device\n",
    "#             infos.append({\n",
    "#                 'index': i,\n",
    "#                 'name': device_info['name'],\n",
    "#                 'channels': device_info['maxInputChannels'],\n",
    "#                 'sample_rate': int(device_info['defaultSampleRate'])\n",
    "#             })\n",
    "#     p.terminate()\n",
    "#     for info in infos:\n",
    "#         print(info)\n",
    "\n",
    "# list_microphones()"
   ]
  },
  {
   "cell_type": "code",
   "execution_count": 2,
   "metadata": {},
   "outputs": [],
   "source": [
    "import dotenv\n",
    "\n",
    "_ = dotenv.load_dotenv(override=True)"
   ]
  },
  {
   "cell_type": "code",
   "execution_count": null,
   "metadata": {},
   "outputs": [],
   "source": [
    "import whisper\n",
    "whisper.available_models()"
   ]
  },
  {
   "cell_type": "code",
   "execution_count": null,
   "metadata": {},
   "outputs": [],
   "source": [
    "import os\n",
    "from groq import Groq\n",
    "\n",
    "# Initialize the Groq client\n",
    "client = Groq(api_key=os.environ.get('GROQ_API_KEY'))\n",
    "\n",
    "# Specify the path to the audio file\n",
    "filename = \"temp_audio_1737267890.81.wav\" # Replace with your audio file!\n",
    "\n",
    "# Open the audio file\n",
    "with open(filename, \"rb\") as file:\n",
    "    # Create a transcription of the audio file\n",
    "    transcription = client.audio.transcriptions.create(\n",
    "      file=(filename, file.read()), # Required audio file\n",
    "      model=\"whisper-large-v3\", # Required model to use for transcription\n",
    "      response_format=\"text\",  # Optional\n",
    "      language=\"es\",  # Optional\n",
    "    )\n",
    "    # Print the transcription text\n",
    "    print(transcription)"
   ]
  },
  {
   "cell_type": "code",
   "execution_count": 1,
   "metadata": {},
   "outputs": [],
   "source": [
    "import os\n",
    "import dotenv\n",
    "\n",
    "import azure.cognitiveservices.speech as speechsdk\n",
    "\n",
    "_ = dotenv.load_dotenv(override=True)\n",
    "\n",
    "app_lang = 'es'\n",
    "\n",
    "speech_config = speechsdk.SpeechConfig(\n",
    "    os.environ.get(\"AZURE_SPEECH_SUBSCRIPTION_KEY\"),\n",
    "    \"eastus\",\n",
    ")\n",
    "\n",
    "speech_config.set_speech_synthesis_output_format(\n",
    "    speechsdk.SpeechSynthesisOutputFormat.Ogg16Khz16BitMonoOpus\n",
    ")\n",
    "\n",
    "audio_config = speechsdk.audio.AudioOutputConfig(use_default_speaker=False, filename=\"output.opus\")\n",
    "\n",
    "if app_lang == 'en':\n",
    "    speech_config.speech_synthesis_language = \"en-US\"\n",
    "    speech_config.speech_synthesis_voice_name = \"en-US-AvaMultilingualNeural\"\n",
    "elif app_lang == 'es':\n",
    "    speech_config.speech_synthesis_language = \"es-ES\"\n",
    "    speech_config.speech_synthesis_voice_name = 'es-MX-MarinaNeural'\n",
    "\n",
    "speech_synthesizer = speechsdk.SpeechSynthesizer(\n",
    "    speech_config=speech_config, audio_config=audio_config\n",
    ")"
   ]
  },
  {
   "cell_type": "code",
   "execution_count": 2,
   "metadata": {},
   "outputs": [],
   "source": [
    "result = speech_synthesizer.speak_text_async('Hola como estan todos').get()"
   ]
  },
  {
   "cell_type": "code",
   "execution_count": null,
   "metadata": {},
   "outputs": [],
   "source": []
  }
 ],
 "metadata": {
  "kernelspec": {
   "display_name": ".venv",
   "language": "python",
   "name": "python3"
  },
  "language_info": {
   "codemirror_mode": {
    "name": "ipython",
    "version": 3
   },
   "file_extension": ".py",
   "mimetype": "text/x-python",
   "name": "python",
   "nbconvert_exporter": "python",
   "pygments_lexer": "ipython3",
   "version": "3.10.14"
  }
 },
 "nbformat": 4,
 "nbformat_minor": 2
}
