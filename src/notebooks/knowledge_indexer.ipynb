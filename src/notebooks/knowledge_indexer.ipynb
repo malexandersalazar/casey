{
 "cells": [
  {
   "cell_type": "code",
   "execution_count": 6,
   "metadata": {},
   "outputs": [],
   "source": [
    "import os\n",
    "import glob\n",
    "import json\n",
    "import uuid\n",
    "from pathlib import Path\n",
    "import requests\n",
    "import urllib.parse\n",
    "import pandas as pd\n",
    "from dotenv import load_dotenv"
   ]
  },
  {
   "cell_type": "code",
   "execution_count": 7,
   "metadata": {},
   "outputs": [
    {
     "data": {
      "text/plain": [
       "True"
      ]
     },
     "execution_count": 7,
     "metadata": {},
     "output_type": "execute_result"
    }
   ],
   "source": [
    "load_dotenv(override=True)"
   ]
  },
  {
   "cell_type": "code",
   "execution_count": null,
   "metadata": {},
   "outputs": [
    {
     "name": "stdout",
     "output_type": "stream",
     "text": [
      "{\"id\":\"e9c78ff5-28ce-4b4d-bae7-7818d8ffd485\",\"metadata\":{\"title\":\"A Nice Document\",\"lang\":\"eng\"},\"storage_usage\":{\"bytes_used\":25,\"metadata_bytes_used\":58}}\n"
     ]
    }
   ],
   "source": [
    "\n",
    "url = \"https://api.vectara.io/v2/corpora/casey/documents\"\n",
    "\n",
    "payload = json.dumps({\n",
    "  \"id\": str(uuid.uuid4()),\n",
    "  \"type\": \"core\",\n",
    "  \"metadata\": {\n",
    "    \"title\": \"A Nice Document\",\n",
    "    \"lang\": \"eng\"\n",
    "  },\n",
    "  \"document_parts\": [\n",
    "    {\n",
    "      \"text\": \"I'm a nice document part.\"\n",
    "    }\n",
    "  ]\n",
    "})\n",
    "headers = {\n",
    "  'Content-Type': 'application/json',\n",
    "  'Accept': 'application/json',\n",
    "  'x-api-key': os.environ.get(\"VECTARA_API_KEY\")\n",
    "}\n",
    "\n",
    "response = requests.request(\"POST\", url, headers=headers, data=payload)\n",
    "\n",
    "print(response.text)"
   ]
  },
  {
   "cell_type": "code",
   "execution_count": 20,
   "metadata": {},
   "outputs": [
    {
     "name": "stdout",
     "output_type": "stream",
     "text": [
      "{\"search_results\":[{\"text\":\"I'm a nice document part.\",\"score\":0.6243952512741089,\"part_metadata\":{\"nice_rank\":9000},\"document_metadata\":{\"title\":\"A Nice Document\",\"lang\":\"eng\"},\"document_id\":\"e9c78ff5-28ce-4b4d-bae7-7818d8ffd485\"}]}\n"
     ]
    }
   ],
   "source": [
    "import requests\n",
    "\n",
    "url = f\"https://api.vectara.io/v2/corpora/casey/query?query={urllib.parse.quote('my powerful document')}\"\n",
    "\n",
    "payload={}\n",
    "headers = {\n",
    "  'Accept': 'application/json',\n",
    "  'x-api-key': os.environ.get(\"VECTARA_API_KEY\")\n",
    "}\n",
    "\n",
    "response = requests.request(\"GET\", url, headers=headers, data=payload)\n",
    "\n",
    "print(response.text)"
   ]
  },
  {
   "cell_type": "code",
   "execution_count": null,
   "metadata": {},
   "outputs": [
    {
     "name": "stdout",
     "output_type": "stream",
     "text": [
      "The detected language is: es\n"
     ]
    }
   ],
   "source": [
    "from langdetect import detect\n",
    "\n",
    "def detect_language(text):\n",
    "    try:\n",
    "        # Detect the language\n",
    "        language = detect(text)\n",
    "        return language\n",
    "    except Exception as e:\n",
    "        return f\"Error: {e}\"\n",
    "\n",
    "# Example usage\n",
    "text = \"Hola, ¿cómo estás?\"\n",
    "language = detect_language(text)\n",
    "print(f\"The detected language is: {language}\")"
   ]
  },
  {
   "cell_type": "markdown",
   "metadata": {},
   "source": [
    "**dist**"
   ]
  },
  {
   "cell_type": "code",
   "execution_count": null,
   "metadata": {},
   "outputs": [],
   "source": [
    "import json\n",
    "import uuid\n",
    "import requests\n",
    "import pandas as pd\n",
    "from langdetect import detect\n",
    "import urllib.parse as urlparse\n",
    "\n",
    "class VectaraClient:\n",
    "    def __init__(self, api_key: str):\n",
    "        self.api_key = api_key\n",
    "\n",
    "    def add_document_to_corpus(self, corpus_key, title, metadata, document_parts):\n",
    "        url = f\"https://api.vectara.io/v2/corpora/{corpus_key}/documents\"\n",
    "\n",
    "        data = {\n",
    "            \"id\": str(uuid.uuid4()),\n",
    "            \"type\": \"core\",\n",
    "            \"metadata\": {\n",
    "                \"title\": title,\n",
    "                \"lang\": detect(title),\n",
    "            },\n",
    "            \"document_parts\": document_parts\n",
    "        }\n",
    "\n",
    "        data[\"metadata\"].update(metadata)\n",
    "\n",
    "        payload = json.dumps(data)\n",
    "        headers = {\n",
    "            'Content-Type': 'application/json',\n",
    "            'Accept': 'application/json',\n",
    "            'x-api-key': self.api_key\n",
    "        }\n",
    "\n",
    "        response = requests.request(\"POST\", url, headers=headers, data=payload)\n",
    "        print(response.text)\n",
    "\n",
    "    def simple_single_corpus_query(self, corpus_key, query, limit=5):\n",
    "        url = f\"https://api.vectara.io/v2/corpora/{corpus_key}/query?query={urlparse.quote(query)}&limit={limit}\"\n",
    "\n",
    "        payload={}\n",
    "        headers = {\n",
    "            'Accept': 'application/json',\n",
    "            'x-api-key': self.api_key\n",
    "        }\n",
    "\n",
    "        response = requests.request(\"GET\", url, headers=headers, data=payload)\n",
    "        print(response.text)\n",
    "        return pd.DataFrame(json.loads(response.text)['search_results'])\n",
    "    \n",
    "    def remove_all_documents_and_data_in_a_corpus(self, corpus_key):\n",
    "        url = f\"https://api.vectara.io/v2/corpora/{corpus_key}/reset\"\n",
    "\n",
    "        payload={}\n",
    "        headers = {\n",
    "            'Accept': 'application/json',\n",
    "            'x-api-key': self.api_key\n",
    "        }\n",
    "\n",
    "        response = requests.request(\"POST\", url, headers=headers, data=payload)\n",
    "        print(response.text)\n",
    "\n",
    "    def list_rerankers(self):\n",
    "        url = f\"https://api.vectara.io/v2/rerankers\"\n",
    "\n",
    "        payload={}\n",
    "        headers = {\n",
    "            'Accept': 'application/json',\n",
    "            'x-api-key': self.api_key\n",
    "        }\n",
    "\n",
    "        response = requests.request(\"GET\", url, headers=headers, data=payload)\n",
    "        return response.text"
   ]
  },
  {
   "cell_type": "code",
   "execution_count": 22,
   "metadata": {},
   "outputs": [],
   "source": [
    "import os\n",
    "from dotenv import load_dotenv\n",
    "\n",
    "load_dotenv(override=True)\n",
    "\n",
    "vectara_client = VectaraClient(os.environ.get(\"VECTARA_API_KEY\"))"
   ]
  },
  {
   "cell_type": "code",
   "execution_count": 24,
   "metadata": {},
   "outputs": [
    {
     "data": {
      "text/html": [
       "<div>\n",
       "<style scoped>\n",
       "    .dataframe tbody tr th:only-of-type {\n",
       "        vertical-align: middle;\n",
       "    }\n",
       "\n",
       "    .dataframe tbody tr th {\n",
       "        vertical-align: top;\n",
       "    }\n",
       "\n",
       "    .dataframe thead th {\n",
       "        text-align: right;\n",
       "    }\n",
       "</style>\n",
       "<table border=\"1\" class=\"dataframe\">\n",
       "  <thead>\n",
       "    <tr style=\"text-align: right;\">\n",
       "      <th></th>\n",
       "      <th>id</th>\n",
       "      <th>name</th>\n",
       "      <th>description</th>\n",
       "      <th>enabled</th>\n",
       "    </tr>\n",
       "  </thead>\n",
       "  <tbody>\n",
       "    <tr>\n",
       "      <th>0</th>\n",
       "      <td>rnk_272725717</td>\n",
       "      <td>vectara-rrk-v1.0.0</td>\n",
       "      <td>Base reranker(english-only).</td>\n",
       "      <td>False</td>\n",
       "    </tr>\n",
       "    <tr>\n",
       "      <th>1</th>\n",
       "      <td>rnk_272725718</td>\n",
       "      <td>Maximum Marginal Relevance Reranker</td>\n",
       "      <td>This reranker strives to reduce redundancy whi...</td>\n",
       "      <td>False</td>\n",
       "    </tr>\n",
       "    <tr>\n",
       "      <th>2</th>\n",
       "      <td>rnk_272725719</td>\n",
       "      <td>Rerank_Multilingual_v1</td>\n",
       "      <td>Multilingual reranker that reorders retrieved ...</td>\n",
       "      <td>False</td>\n",
       "    </tr>\n",
       "    <tr>\n",
       "      <th>3</th>\n",
       "      <td>rnk_272725722</td>\n",
       "      <td>User_Defined_Function_Reranker</td>\n",
       "      <td>Custom reranker that reorders retrieved search...</td>\n",
       "      <td>False</td>\n",
       "    </tr>\n",
       "  </tbody>\n",
       "</table>\n",
       "</div>"
      ],
      "text/plain": [
       "              id                                 name  \\\n",
       "0  rnk_272725717                   vectara-rrk-v1.0.0   \n",
       "1  rnk_272725718  Maximum Marginal Relevance Reranker   \n",
       "2  rnk_272725719               Rerank_Multilingual_v1   \n",
       "3  rnk_272725722       User_Defined_Function_Reranker   \n",
       "\n",
       "                                         description  enabled  \n",
       "0                       Base reranker(english-only).    False  \n",
       "1  This reranker strives to reduce redundancy whi...    False  \n",
       "2  Multilingual reranker that reorders retrieved ...    False  \n",
       "3  Custom reranker that reorders retrieved search...    False  "
      ]
     },
     "execution_count": 24,
     "metadata": {},
     "output_type": "execute_result"
    }
   ],
   "source": [
    "df = pd.DataFrame(json.loads(vectara_client.list_rerankers())['rerankers'])\n",
    "df"
   ]
  },
  {
   "cell_type": "code",
   "execution_count": 25,
   "metadata": {},
   "outputs": [
    {
     "name": "stdout",
     "output_type": "stream",
     "text": [
      "['Base reranker(english-only).', 'This reranker strives to reduce redundancy while maintaining query relevance in re-ranking retrieved documents.', 'Multilingual reranker that reorders retrieved search results based on relevance to the query.', 'Custom reranker that reorders retrieved search results based on a user defined function.']\n"
     ]
    }
   ],
   "source": [
    "print(df.description.tolist())"
   ]
  },
  {
   "cell_type": "code",
   "execution_count": null,
   "metadata": {},
   "outputs": [
    {
     "name": "stdout",
     "output_type": "stream",
     "text": [
      "{\"id\":\"bed91294-8bbb-4ad1-90f8-138084d834ba\",\"metadata\":{\"title\":\"8_GameChanging_Manufacturing_Trends_That_Will_Define_2025\",\"lang\":\"en\"},\"storage_usage\":{\"bytes_used\":3751,\"metadata_bytes_used\":121}}\n"
     ]
    }
   ],
   "source": [
    "for news in glob.glob('../data/clean/news/en/*.csv')[:1]:\n",
    "    new_df = pd.read_csv(news)\n",
    "    corpus_key = 'casey'\n",
    "    title = Path(news).stem\n",
    "    fact_list = [{'text': fact} for fact in new_df['fact']]\n",
    "\n",
    "    vectara_client.add_document_to_corpus(corpus_key, title, {}, fact_list)   "
   ]
  },
  {
   "cell_type": "code",
   "execution_count": 92,
   "metadata": {},
   "outputs": [
    {
     "name": "stdout",
     "output_type": "stream",
     "text": [
      "{\"search_results\":[{\"text\":\"La IA puede ser utilizada para resolver problemas y crear eficiencias en la industria manufacturera, como la planificación y la entrega de iniciativas para fomentar la comprensión de la IA en la fuerza laboral.\",\"score\":0.6321282982826233,\"part_metadata\":{},\"document_metadata\":{\"title\":\"8_GameChanging_Manufacturing_Trends_That_Will_Define_2025\",\"lang\":\"en\"},\"document_id\":\"bed91294-8bbb-4ad1-90f8-138084d834ba\"},{\"text\":\"La IA puede ser utilizada para mejorar la precisión de la predicción de la demanda y la toma de decisiones automatizada en la industria manufacturera.\",\"score\":0.6312321424484253,\"part_metadata\":{},\"document_metadata\":{\"title\":\"8_GameChanging_Manufacturing_Trends_That_Will_Define_2025\",\"lang\":\"en\"},\"document_id\":\"bed91294-8bbb-4ad1-90f8-138084d834ba\"},{\"text\":\"En 2025, las empresas manufactureras priorizarán la innovación y la eficiencia en la adopción de tecnologías como la robótica, el mantenimiento predictivo y la automatización.\",\"score\":0.6182421445846558,\"part_metadata\":{},\"document_metadata\":{\"title\":\"8_GameChanging_Manufacturing_Trends_That_Will_Define_2025\",\"lang\":\"en\"},\"document_id\":\"bed91294-8bbb-4ad1-90f8-138084d834ba\"},{\"text\":\"Las empresas que adopten la IA y la eficiencia, al mismo tiempo que construyen operaciones resilientes y sostenibles, estarán mejor posicionadas para prosperar en la próxima era de la manufactura.\",\"score\":0.6146106123924255,\"part_metadata\":{},\"document_metadata\":{\"title\":\"8_GameChanging_Manufacturing_Trends_That_Will_Define_2025\",\"lang\":\"en\"},\"document_id\":\"bed91294-8bbb-4ad1-90f8-138084d834ba\"},{\"text\":\"En 2025, la industria manufacturera se enfrenta a desafíos como la implementación de la inteligencia artificial, la mejora de la sostenibilidad y la construcción de resiliencia ante la incertidumbre política y social.\",\"score\":0.6085124611854553,\"part_metadata\":{},\"document_metadata\":{\"title\":\"8_GameChanging_Manufacturing_Trends_That_Will_Define_2025\",\"lang\":\"en\"},\"document_id\":\"bed91294-8bbb-4ad1-90f8-138084d834ba\"},{\"text\":\"La adopción de la inteligencia artificial (IA) en la industria manufacturera puede estar limitada por barreras culturales, como la preocupación de que la IA reemplace a los trabajadores o los haga redundantes.\",\"score\":0.5947971343994141,\"part_metadata\":{},\"document_metadata\":{\"title\":\"8_GameChanging_Manufacturing_Trends_That_Will_Define_2025\",\"lang\":\"en\"},\"document_id\":\"bed91294-8bbb-4ad1-90f8-138084d834ba\"},{\"text\":\"La sostenibilidad se está convirtiendo en una prioridad empresarial para las empresas manufactureras en 2025 debido a la demanda de los consumidores, las regulaciones más estrictas y el impacto del cambio climático.\",\"score\":0.5941342711448669,\"part_metadata\":{},\"document_metadata\":{\"title\":\"8_GameChanging_Manufacturing_Trends_That_Will_Define_2025\",\"lang\":\"en\"},\"document_id\":\"bed91294-8bbb-4ad1-90f8-138084d834ba\"},{\"text\":\"En 2025, se espera que las empresas manufactureras implementen casos de uso de inteligencia artificial generativa para acelerar y mejorar la eficiencia en los procesos de manufactura.\",\"score\":0.5925255417823792,\"part_metadata\":{},\"document_metadata\":{\"title\":\"8_GameChanging_Manufacturing_Trends_That_Will_Define_2025\",\"lang\":\"en\"},\"document_id\":\"bed91294-8bbb-4ad1-90f8-138084d834ba\"},{\"text\":\"Las empresas manufactureras necesitarán replantear la forma en que contratan y capacitan a su personal, y para muchas, esto se convertirá en una prioridad empresarial crítica en 2025.\",\"score\":0.5826401710510254,\"part_metadata\":{},\"document_metadata\":{\"title\":\"8_GameChanging_Manufacturing_Trends_That_Will_Define_2025\",\"lang\":\"en\"},\"document_id\":\"bed91294-8bbb-4ad1-90f8-138084d834ba\"},{\"text\":\"A medida que los robots se alejan de la línea de ensamblaje y se integran en la fuerza laboral, los humanos desarrollarán nuevas habilidades para liderar y interactuar con los robots.\",\"score\":0.5593168139457703,\"part_metadata\":{},\"document_metadata\":{\"title\":\"8_GameChanging_Manufacturing_Trends_That_Will_Define_2025\",\"lang\":\"en\"},\"document_id\":\"bed91294-8bbb-4ad1-90f8-138084d834ba\"}]}\n"
     ]
    }
   ],
   "source": [
    "search_results = vectara_client.simple_single_corpus_query('casey', '¿Que ocurrirá con la IA a partir del 2025?')"
   ]
  },
  {
   "cell_type": "code",
   "execution_count": 93,
   "metadata": {},
   "outputs": [
    {
     "data": {
      "text/html": [
       "<div>\n",
       "<style scoped>\n",
       "    .dataframe tbody tr th:only-of-type {\n",
       "        vertical-align: middle;\n",
       "    }\n",
       "\n",
       "    .dataframe tbody tr th {\n",
       "        vertical-align: top;\n",
       "    }\n",
       "\n",
       "    .dataframe thead th {\n",
       "        text-align: right;\n",
       "    }\n",
       "</style>\n",
       "<table border=\"1\" class=\"dataframe\">\n",
       "  <thead>\n",
       "    <tr style=\"text-align: right;\">\n",
       "      <th></th>\n",
       "      <th>text</th>\n",
       "      <th>score</th>\n",
       "      <th>part_metadata</th>\n",
       "      <th>document_metadata</th>\n",
       "      <th>document_id</th>\n",
       "    </tr>\n",
       "  </thead>\n",
       "  <tbody>\n",
       "    <tr>\n",
       "      <th>0</th>\n",
       "      <td>La IA puede ser utilizada para resolver proble...</td>\n",
       "      <td>0.632128</td>\n",
       "      <td>{}</td>\n",
       "      <td>{'title': '8_GameChanging_Manufacturing_Trends...</td>\n",
       "      <td>bed91294-8bbb-4ad1-90f8-138084d834ba</td>\n",
       "    </tr>\n",
       "    <tr>\n",
       "      <th>1</th>\n",
       "      <td>La IA puede ser utilizada para mejorar la prec...</td>\n",
       "      <td>0.631232</td>\n",
       "      <td>{}</td>\n",
       "      <td>{'title': '8_GameChanging_Manufacturing_Trends...</td>\n",
       "      <td>bed91294-8bbb-4ad1-90f8-138084d834ba</td>\n",
       "    </tr>\n",
       "    <tr>\n",
       "      <th>2</th>\n",
       "      <td>En 2025, las empresas manufactureras priorizar...</td>\n",
       "      <td>0.618242</td>\n",
       "      <td>{}</td>\n",
       "      <td>{'title': '8_GameChanging_Manufacturing_Trends...</td>\n",
       "      <td>bed91294-8bbb-4ad1-90f8-138084d834ba</td>\n",
       "    </tr>\n",
       "    <tr>\n",
       "      <th>3</th>\n",
       "      <td>Las empresas que adopten la IA y la eficiencia...</td>\n",
       "      <td>0.614611</td>\n",
       "      <td>{}</td>\n",
       "      <td>{'title': '8_GameChanging_Manufacturing_Trends...</td>\n",
       "      <td>bed91294-8bbb-4ad1-90f8-138084d834ba</td>\n",
       "    </tr>\n",
       "    <tr>\n",
       "      <th>4</th>\n",
       "      <td>En 2025, la industria manufacturera se enfrent...</td>\n",
       "      <td>0.608512</td>\n",
       "      <td>{}</td>\n",
       "      <td>{'title': '8_GameChanging_Manufacturing_Trends...</td>\n",
       "      <td>bed91294-8bbb-4ad1-90f8-138084d834ba</td>\n",
       "    </tr>\n",
       "    <tr>\n",
       "      <th>5</th>\n",
       "      <td>La adopción de la inteligencia artificial (IA)...</td>\n",
       "      <td>0.594797</td>\n",
       "      <td>{}</td>\n",
       "      <td>{'title': '8_GameChanging_Manufacturing_Trends...</td>\n",
       "      <td>bed91294-8bbb-4ad1-90f8-138084d834ba</td>\n",
       "    </tr>\n",
       "    <tr>\n",
       "      <th>6</th>\n",
       "      <td>La sostenibilidad se está convirtiendo en una ...</td>\n",
       "      <td>0.594134</td>\n",
       "      <td>{}</td>\n",
       "      <td>{'title': '8_GameChanging_Manufacturing_Trends...</td>\n",
       "      <td>bed91294-8bbb-4ad1-90f8-138084d834ba</td>\n",
       "    </tr>\n",
       "    <tr>\n",
       "      <th>7</th>\n",
       "      <td>En 2025, se espera que las empresas manufactur...</td>\n",
       "      <td>0.592526</td>\n",
       "      <td>{}</td>\n",
       "      <td>{'title': '8_GameChanging_Manufacturing_Trends...</td>\n",
       "      <td>bed91294-8bbb-4ad1-90f8-138084d834ba</td>\n",
       "    </tr>\n",
       "    <tr>\n",
       "      <th>8</th>\n",
       "      <td>Las empresas manufactureras necesitarán replan...</td>\n",
       "      <td>0.582640</td>\n",
       "      <td>{}</td>\n",
       "      <td>{'title': '8_GameChanging_Manufacturing_Trends...</td>\n",
       "      <td>bed91294-8bbb-4ad1-90f8-138084d834ba</td>\n",
       "    </tr>\n",
       "    <tr>\n",
       "      <th>9</th>\n",
       "      <td>A medida que los robots se alejan de la línea ...</td>\n",
       "      <td>0.559317</td>\n",
       "      <td>{}</td>\n",
       "      <td>{'title': '8_GameChanging_Manufacturing_Trends...</td>\n",
       "      <td>bed91294-8bbb-4ad1-90f8-138084d834ba</td>\n",
       "    </tr>\n",
       "  </tbody>\n",
       "</table>\n",
       "</div>"
      ],
      "text/plain": [
       "                                                text     score part_metadata  \\\n",
       "0  La IA puede ser utilizada para resolver proble...  0.632128            {}   \n",
       "1  La IA puede ser utilizada para mejorar la prec...  0.631232            {}   \n",
       "2  En 2025, las empresas manufactureras priorizar...  0.618242            {}   \n",
       "3  Las empresas que adopten la IA y la eficiencia...  0.614611            {}   \n",
       "4  En 2025, la industria manufacturera se enfrent...  0.608512            {}   \n",
       "5  La adopción de la inteligencia artificial (IA)...  0.594797            {}   \n",
       "6  La sostenibilidad se está convirtiendo en una ...  0.594134            {}   \n",
       "7  En 2025, se espera que las empresas manufactur...  0.592526            {}   \n",
       "8  Las empresas manufactureras necesitarán replan...  0.582640            {}   \n",
       "9  A medida que los robots se alejan de la línea ...  0.559317            {}   \n",
       "\n",
       "                                   document_metadata  \\\n",
       "0  {'title': '8_GameChanging_Manufacturing_Trends...   \n",
       "1  {'title': '8_GameChanging_Manufacturing_Trends...   \n",
       "2  {'title': '8_GameChanging_Manufacturing_Trends...   \n",
       "3  {'title': '8_GameChanging_Manufacturing_Trends...   \n",
       "4  {'title': '8_GameChanging_Manufacturing_Trends...   \n",
       "5  {'title': '8_GameChanging_Manufacturing_Trends...   \n",
       "6  {'title': '8_GameChanging_Manufacturing_Trends...   \n",
       "7  {'title': '8_GameChanging_Manufacturing_Trends...   \n",
       "8  {'title': '8_GameChanging_Manufacturing_Trends...   \n",
       "9  {'title': '8_GameChanging_Manufacturing_Trends...   \n",
       "\n",
       "                            document_id  \n",
       "0  bed91294-8bbb-4ad1-90f8-138084d834ba  \n",
       "1  bed91294-8bbb-4ad1-90f8-138084d834ba  \n",
       "2  bed91294-8bbb-4ad1-90f8-138084d834ba  \n",
       "3  bed91294-8bbb-4ad1-90f8-138084d834ba  \n",
       "4  bed91294-8bbb-4ad1-90f8-138084d834ba  \n",
       "5  bed91294-8bbb-4ad1-90f8-138084d834ba  \n",
       "6  bed91294-8bbb-4ad1-90f8-138084d834ba  \n",
       "7  bed91294-8bbb-4ad1-90f8-138084d834ba  \n",
       "8  bed91294-8bbb-4ad1-90f8-138084d834ba  \n",
       "9  bed91294-8bbb-4ad1-90f8-138084d834ba  "
      ]
     },
     "execution_count": 93,
     "metadata": {},
     "output_type": "execute_result"
    }
   ],
   "source": [
    "search_results"
   ]
  },
  {
   "cell_type": "code",
   "execution_count": null,
   "metadata": {},
   "outputs": [],
   "source": [
    "I have a \"search_results\" variable that is a Dataframe with the columns text and document_metadata. The document_metadata have information in the format \"{'title':'string', 'url': 'string'}\". I need to process this Dataframe in a way to end up with a list of dictionaries that have the properties: title, url, text"
   ]
  },
  {
   "cell_type": "code",
   "execution_count": 32,
   "metadata": {},
   "outputs": [],
   "source": [
    "import re\n",
    "\n",
    "def __escape_markdown_v2(text: str) -> str:\n",
    "    \"\"\"\n",
    "    Escape special characters for Telegram's MarkdownV2 format while preserving formatting.\n",
    "    \"\"\"\n",
    "    # First, let's preserve the bold headers by converting them\n",
    "    text = re.sub(r'\\*\\*([^\\n]+?)\\*\\*', lambda m: f'⟦BOLD⟧{m.group(1)}⟦/BOLD⟧', text)\n",
    "    \n",
    "    # Escape special characters except those in our preserved tokens\n",
    "    parts = []\n",
    "    current_pos = 0\n",
    "    for match in re.finditer(r'⟦BOLD⟧.*?⟦/BOLD⟧', text, re.DOTALL):\n",
    "        # Add escaped text before the match\n",
    "        start, end = match.span()\n",
    "        if start > current_pos:\n",
    "            parts.append(re.sub(r'([_*\\[\\]()~`>#+\\-=|{}.!])', r'\\\\\\1', text[current_pos:start]))\n",
    "        \n",
    "        # Add the bold text with proper Telegram formatting\n",
    "        bold_text = text[start:end].replace('⟦BOLD⟧', '*').replace('⟦/BOLD⟧', '*')\n",
    "        parts.append(bold_text)\n",
    "        current_pos = end\n",
    "    \n",
    "    # Add any remaining text\n",
    "    if current_pos < len(text):\n",
    "        parts.append(re.sub(r'([_*\\[\\]()~`>#+\\-=|{}.!])', r'\\\\\\1', text[current_pos:]))\n",
    "    \n",
    "    return ''.join(parts)"
   ]
  },
  {
   "cell_type": "code",
   "execution_count": 33,
   "metadata": {},
   "outputs": [],
   "source": [
    "text = \"\"\"CAREER TRANSITION GUIDANCE FOR DEVELOPERS\n",
    "\n",
    "As the demand for data engineering skills continues to rise, many developers are considering a career transition into this field. With the right guidance and training, developers can leverage their existing skills to succeed in data engineering. According to Gina Smith, research director of IT skills for digital business at IDC, \"New gen AI-fueled tech training platforms won’t get rid of skills shortages, but they can help data centers \n",
    "provide custom learning for individuals and teams.\"\n",
    "\n",
    "**Key Skills for Data Engineering**\n",
    "Developers looking to transition into data engineering should focus on acquiring skills in machine learning, data analysis, and model training and engineering. Additionally, knowledge of cybersecurity, automation technologies, cloud development, IT service management (ITSM), DevSecOps, and IT ops is highly valued in the industry.\n",
    "\n",
    "**Career Development Strategies**\n",
    "> \"With an uneven economic recovery, and enterprises unsure about future market prospects, we’re seeing organizations look to reduce costs and maintain a tight focus on initiatives that produce value,\" said Forrester’s Mark.\n",
    "Developers can benefit from online skill-building modules, adaptive learning platforms, and career analytics dashboards to build their workforce readiness and stay ahead in the industry.\"\"\""
   ]
  },
  {
   "cell_type": "code",
   "execution_count": 35,
   "metadata": {},
   "outputs": [
    {
     "name": "stdout",
     "output_type": "stream",
     "text": [
      "CAREER TRANSITION GUIDANCE FOR DEVELOPERS\n",
      "\n",
      "As the demand for data engineering skills continues to rise, many developers are considering a career transition into this field\\. With the right guidance and training, developers can leverage their existing skills to succeed in data engineering\\. According to Gina Smith, research director of IT skills for digital business at IDC, \"New gen AI\\-fueled tech training platforms won’t get rid of skills shortages, but they can help data centers \n",
      "provide custom learning for individuals and teams\\.\"\n",
      "\n",
      "*Key Skills for Data Engineering*\n",
      "Developers looking to transition into data engineering should focus on acquiring skills in machine learning, data analysis, and model training and engineering\\. Additionally, knowledge of cybersecurity, automation technologies, cloud development, IT service management \\(ITSM\\), DevSecOps, and IT ops is highly valued in the industry\\.\n",
      "\n",
      "*Career Development Strategies*\n",
      "\\> \"With an uneven economic recovery, and enterprises unsure about future market prospects, we’re seeing organizations look to reduce costs and maintain a tight focus on initiatives that produce value,\" said Forrester’s Mark\\.\n",
      "Developers can benefit from online skill\\-building modules, adaptive learning platforms, and career analytics dashboards to build their workforce readiness and stay ahead in the industry\\.\n"
     ]
    }
   ],
   "source": [
    "print(__escape_markdown_v2(text))"
   ]
  },
  {
   "cell_type": "code",
   "execution_count": null,
   "metadata": {},
   "outputs": [],
   "source": []
  }
 ],
 "metadata": {
  "kernelspec": {
   "display_name": ".venv",
   "language": "python",
   "name": "python3"
  },
  "language_info": {
   "codemirror_mode": {
    "name": "ipython",
    "version": 3
   },
   "file_extension": ".py",
   "mimetype": "text/x-python",
   "name": "python",
   "nbconvert_exporter": "python",
   "pygments_lexer": "ipython3",
   "version": "3.10.14"
  }
 },
 "nbformat": 4,
 "nbformat_minor": 2
}
