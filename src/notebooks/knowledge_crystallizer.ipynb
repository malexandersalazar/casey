{
 "cells": [
  {
   "cell_type": "code",
   "execution_count": 1,
   "metadata": {},
   "outputs": [],
   "source": [
    "import os\n",
    "import re\n",
    "import glob\n",
    "import logging\n",
    "import pandas as pd\n",
    "from pathlib import Path\n",
    "\n",
    "from groq import Groq\n",
    "from tqdm import tqdm\n",
    "from dotenv import load_dotenv"
   ]
  },
  {
   "cell_type": "code",
   "execution_count": 2,
   "metadata": {},
   "outputs": [],
   "source": [
    "load_dotenv(override=True)\n",
    "logging.basicConfig(filename='knowledge_crystallizer_errors.log', level=logging.ERROR, encoding='utf-8')"
   ]
  },
  {
   "cell_type": "code",
   "execution_count": 3,
   "metadata": {},
   "outputs": [],
   "source": [
    "# input_files_path = '../data/raw/library/psychology/es/'\n",
    "# output_files_path = '../data/clean/knowledge/psychology/es/'\n",
    "\n",
    "input_files_path = '../data/raw/news/'\n",
    "output_files_path = '../data/clean/news/'\n",
    "\n",
    "os.makedirs(input_files_path, exist_ok=True)\n",
    "os.makedirs(output_files_path, exist_ok=True)"
   ]
  },
  {
   "cell_type": "code",
   "execution_count": 4,
   "metadata": {},
   "outputs": [],
   "source": [
    "def extract_markdown_sections(markdown_text):\n",
    "    # Split the text into lines\n",
    "    lines = markdown_text.strip().split('\\n')\n",
    "    \n",
    "    # Initialize variables\n",
    "    current_headers = []\n",
    "    sections = []\n",
    "    current_content = []\n",
    "    \n",
    "    def get_header_level(line):\n",
    "        \"\"\"Count the number of # at the start of the line\"\"\"\n",
    "        match = re.match(r'^(#+)\\s', line)\n",
    "        return len(match.group(1)) if match else 0\n",
    "    \n",
    "    def save_current_section():\n",
    "        \"\"\"Save the current section if there's any content\"\"\"\n",
    "        if current_content:\n",
    "            # Combine all current headers and content\n",
    "            section = '\\n'.join(current_headers + [''] + current_content).strip()\n",
    "            sections.append(section)\n",
    "            current_content.clear()\n",
    "    \n",
    "    for line in lines:\n",
    "        level = get_header_level(line)\n",
    "        \n",
    "        if level > 0:  # This is a header line\n",
    "            # Save the previous section if it exists\n",
    "            save_current_section()\n",
    "            \n",
    "            # Update the current headers based on the level\n",
    "            while len(current_headers) >= level:\n",
    "                current_headers.pop()\n",
    "            current_headers.append(line)\n",
    "        \n",
    "        elif line.strip():  # This is a content line\n",
    "            current_content.append(line)\n",
    "    \n",
    "    # Save the last section\n",
    "    save_current_section()\n",
    "    \n",
    "    return sections"
   ]
  },
  {
   "cell_type": "code",
   "execution_count": 5,
   "metadata": {},
   "outputs": [],
   "source": [
    "def exctract_knowledge(content):\n",
    "    template = f'''Extrae TODO el conocimiento del texto de entrada como una colección de hechos completamente independientes y autocontenidos. Cada hecho debe contener todo lo necesario para comprenderlo sin necesidad de hacer referencia a otros hechos o al contexto externo\n",
    "\n",
    "**Conserve los nombres propios SÓLO cuando sean**:\n",
    "- Autores de descubrimientos o teorías científicas verificadas\n",
    "- Nombres de leyes, principios o teorías establecidas\n",
    "- Patentes o innovaciones tecnológicas documentadas\n",
    "- Acontecimientos históricos en los que la fecha o el lugar concretos son cruciales\n",
    "- Lugares geográficos cuando sus propiedades específicas sean relevantes para el hecho\n",
    "- Medidas científicas o normas establecidas\n",
    "\n",
    "**Instrucciones para la extracción de cada hecho**:\n",
    "- Utiliza términos genéricos en lugar de nombres propios no esenciales (por ejemplo, «mamíferos» en lugar de nombres específicos de animales)\n",
    "- Sustituya todos los términos relativos (como «muchos», «algunos», «a menudo») por cantidades concretas\n",
    "- Convierta las afirmaciones generales en afirmaciones precisas y mensurables\n",
    "- Incluya condiciones y contextos específicos\n",
    "- Utilice terminología exacta en lugar de aproximaciones\n",
    "- Incluya todo el contexto necesario dentro del mismo párrafo\n",
    "- Indique todas las condiciones y cualificaciones pertinentes\n",
    "- Defina los términos especializados dentro del mismo hecho\n",
    "- Incluya todos los detalles cruciales necesarios para la comprensión\n",
    "- Incluya sólo la información esencial para el hecho concreto\n",
    "- Elimine el lenguaje decorativo y los detalles innecesarios\n",
    "- Céntrese en un punto claro por hecho\n",
    "- Excluya la información tangencial\n",
    "- Utilice un lenguaje claro y literal\n",
    "- Evite metáforas y modismos\n",
    "- Defina los términos potencialmente ambiguos\n",
    "- Indique explícitamente las relaciones\n",
    "- Utilice la misma terminología en todos los hechos\n",
    "- Mantenga un nivel de detalle coherente\n",
    "- Asegúrese de que los hechos complementarios no se contradigan\n",
    "- Ajustese al nivel técnico del material original\n",
    "- Proporcione detalles suficientes para la comprensión práctica\n",
    "- Incluya toda la información contextual pertinente\n",
    "\n",
    "**Formato de salida**:\n",
    "\n",
    "Tu resultado final debe presentar sólo y unicamente una simple lista numerada de hechos, por ejemplo:\n",
    "\n",
    "1. [Primer hecho completo y autónomo en un único párrafo].\n",
    "2. [Segundo hecho completo y autónomo en un único párrafo].\n",
    "3. [Y así sucesivamente...].\n",
    "\n",
    "**Cada hecho debe**:\n",
    "- Ser completamente comprensible por sí solo\n",
    "- Contener todo el contexto y las definiciones necesarias\n",
    "- Ser preciso e inequívoco\n",
    "- Incluir sólo la información pertinente\n",
    "- Expresarse en un lenguaje claro y literal.\n",
    "\n",
    "**La lista completa de hechos debe conservar todos los conocimientos del texto original sin pérdida de información ni de contexto**\n",
    "\n",
    "# Texto de entrada:\n",
    "\n",
    "\"\"\"\n",
    "{content}\n",
    "\"\"\"'''\n",
    "\n",
    "    client = Groq(\n",
    "        api_key=os.environ.get(\"GROQ_API_KEY\"),\n",
    "    )\n",
    "\n",
    "    chat_completion = client.chat.completions.create(\n",
    "        messages=[\n",
    "            {\n",
    "                \"role\": \"user\",\n",
    "                \"content\": template,\n",
    "            }\n",
    "        ],\n",
    "        model=os.environ.get(\"GROQ_MODEL_ID\"),\n",
    "        max_tokens=8000,\n",
    "        top_p=0.1,\n",
    "        temperature=0.92\n",
    "    )\n",
    "\n",
    "    return chat_completion.choices[0].message.content"
   ]
  },
  {
   "cell_type": "code",
   "execution_count": 6,
   "metadata": {},
   "outputs": [],
   "source": [
    "def facts_to_dataframe(text):\n",
    "    pattern = r\"^\\s*(\\d+)\\.\\s+(.+?)(?=\\n\\s*\\d+\\.|$)\"\n",
    "    matches = re.finditer(pattern, text, re.MULTILINE | re.DOTALL)\n",
    "    facts = []\n",
    "    for match in matches:\n",
    "        fact = match.group(2).strip()\n",
    "        facts.append(fact)\n",
    "    df = pd.DataFrame({\"fact\": facts})\n",
    "    return df"
   ]
  },
  {
   "cell_type": "code",
   "execution_count": 7,
   "metadata": {},
   "outputs": [],
   "source": [
    "for input_filename in glob.glob(input_files_path + '*.md'):\n",
    "    file_facts = []\n",
    "    output_filename = f'{output_files_path}{Path(input_filename).stem}.csv'\n",
    "\n",
    "    with open(input_filename,'r', encoding='utf-8') as f:\n",
    "        book = f.read()  \n",
    "        sections = extract_markdown_sections(book)\n",
    "\n",
    "        for section in tqdm(sections, total=len(sections), desc=f\"Extracting knowledge from {input_filename}...\"):\n",
    "            try:\n",
    "                facts = exctract_knowledge(section)\n",
    "                file_facts.append(facts)\n",
    "            except Exception as e:\n",
    "                error_log = f\"\"\"## Section:\n",
    "{section}\n",
    "## Error:\n",
    "{str(e)}\n",
    "-----------------------------------------------\n",
    "-----------------------------------------------\"\"\"\n",
    "                logging.error(error_log)\n",
    "\n",
    "        all_file_facts_text = '\\n\\n'.join(file_facts)\n",
    "        df = facts_to_dataframe(all_file_facts_text)\n",
    "        df.to_csv(output_filename, index=False, encoding='utf-8')"
   ]
  },
  {
   "cell_type": "code",
   "execution_count": 10,
   "metadata": {},
   "outputs": [
    {
     "name": "stderr",
     "output_type": "stream",
     "text": [
      "Extracting knowledge from ../data/raw/news\\8_GameChanging_Manufacturing_Trends_That_Will_Define_2025.txt...: 100%|██████████| 2/2 [00:05<00:00,  2.90s/it]\n",
      "Extracting knowledge from ../data/raw/news\\At_AWS_ReInvent_A_Look_At_Reinventing_AI.txt...: 100%|██████████| 3/3 [00:23<00:00,  7.71s/it]\n",
      "Extracting knowledge from ../data/raw/news\\Deep_Dive_AI_2024.txt...: 100%|██████████| 1/1 [00:17<00:00, 17.66s/it]\n",
      "Extracting knowledge from ../data/raw/news\\How_AI_can_help_you_attract_engage_and_retain_the_best_talent_in_2025.txt...: 100%|██████████| 2/2 [00:32<00:00, 16.39s/it]\n",
      "Extracting knowledge from ../data/raw/news\\Lately_The_years_biggest_YouTube_trends_AI_weather_forecasts_and_brain_rot.txt...: 100%|██████████| 2/2 [00:36<00:00, 18.22s/it]\n"
     ]
    }
   ],
   "source": [
    "for input_filename in glob.glob(input_files_path + '*.txt'):\n",
    "    file_facts = []\n",
    "    output_filename = f'{output_files_path}{Path(input_filename).stem}.csv'\n",
    "\n",
    "    with open(input_filename,'r', encoding='utf-8') as f:\n",
    "        content = f.read()  \n",
    "        sections = [content[i:i + 4096] for i in range(0, len(content), 4096)]\n",
    "\n",
    "        for section in tqdm(sections, total=len(sections), desc=f\"Extracting knowledge from {input_filename}...\"):\n",
    "            try:\n",
    "                facts = exctract_knowledge(section)\n",
    "                file_facts.append(facts)\n",
    "            except Exception as e:\n",
    "                error_log = f\"\"\"## Section:\n",
    "{section}\n",
    "## Error:\n",
    "{str(e)}\n",
    "-----------------------------------------------\n",
    "-----------------------------------------------\"\"\"\n",
    "                logging.error(error_log)\n",
    "\n",
    "        all_file_facts_text = '\\n\\n'.join(file_facts)\n",
    "        df = facts_to_dataframe(all_file_facts_text)\n",
    "        df.to_csv(output_filename, index=False, encoding='utf-8')"
   ]
  },
  {
   "cell_type": "markdown",
   "metadata": {},
   "source": [
    "## Vector Index"
   ]
  },
  {
   "cell_type": "code",
   "execution_count": 8,
   "metadata": {},
   "outputs": [],
   "source": [
    "# dfs = []\n",
    "# for fact_filename in glob.glob(output_files_path + '*.csv'):\n",
    "#     df = pd.read_csv(fact_filename, encoding='utf-8')\n",
    "#     dfs.append(df)\n",
    "# all_facts_df = pd.concat(dfs, ignore_index=True)"
   ]
  },
  {
   "cell_type": "code",
   "execution_count": 9,
   "metadata": {},
   "outputs": [],
   "source": [
    "# all_facts_df['fact'].str.split().str.len()"
   ]
  },
  {
   "cell_type": "code",
   "execution_count": null,
   "metadata": {},
   "outputs": [
    {
     "name": "stdout",
     "output_type": "stream",
     "text": [
      "6781\n",
      "8795\n",
      "3175\n",
      "5253\n",
      "5674\n"
     ]
    }
   ],
   "source": [
    "# for input_filename in glob.glob(input_files_path + '*.txt'):\n",
    "#     file_facts = []\n",
    "#     output_filename = f'{output_files_path}{Path(input_filename).stem}.csv'\n",
    "\n",
    "#     with open(input_filename,'r', encoding='utf-8') as f:\n",
    "#         content = f.read() \n",
    "#         print(len(content))"
   ]
  },
  {
   "cell_type": "code",
   "execution_count": null,
   "metadata": {},
   "outputs": [],
   "source": []
  }
 ],
 "metadata": {
  "kernelspec": {
   "display_name": ".venv",
   "language": "python",
   "name": "python3"
  },
  "language_info": {
   "codemirror_mode": {
    "name": "ipython",
    "version": 3
   },
   "file_extension": ".py",
   "mimetype": "text/x-python",
   "name": "python",
   "nbconvert_exporter": "python",
   "pygments_lexer": "ipython3",
   "version": "3.10.14"
  }
 },
 "nbformat": 4,
 "nbformat_minor": 2
}
